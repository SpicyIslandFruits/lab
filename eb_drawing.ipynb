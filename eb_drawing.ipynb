{
 "cells": [
  {
   "cell_type": "markdown",
   "source": [
    "## 完成図\n",
    "\n",
    "プログラムが表す写真を修論から取ってくる\n",
    "\n",
    "上から見た時の図を表すプログラムを書いている\n",
    "\n",
    "opening_widthを徐々に大きくして狭い範囲を繰り返し露光することでだんだん広げる\n"
   ],
   "metadata": {
    "collapsed": false
   },
   "id": "423694e3982068c"
  },
  {
   "cell_type": "code",
   "execution_count": 28,
   "outputs": [],
   "source": [
    "# 単位はµm\n",
    "import math\n",
    "\n",
    "\n",
    "def compute_rectangles(device_width, margin_bottom, polarization_period, one_shot_length, opening_width):\n",
    "    assert opening_width < polarization_period, \"polarization_period must be greater than opening_width\"\n",
    "    polarizations_count = math.floor(one_shot_length / polarization_period)\n",
    "    rectangles = []\n",
    "    for n in range(polarizations_count):\n",
    "        rectangle = {\n",
    "            'top_left': [n * polarization_period, 0],\n",
    "            'bottom_right': [n * polarization_period + opening_width, device_width - margin_bottom],\n",
    "        }\n",
    "        rectangles.append(rectangle)\n",
    "    return rectangles\n",
    "\n",
    "\n",
    "def do_compute_rectangles(polarization_period):\n",
    "    device_width = 500\n",
    "    # レジストが正しい形で堆積されているか確認するための余白\n",
    "    margin_bottom = 10  # TODO: 実際の数値を修論参考にして考える\n",
    "\n",
    "    opening_width = 0.5  # TODO: 修論で実際の数値を確認する\n",
    "    one_shot_length = 0.5 * 1000\n",
    "\n",
    "    rectangles = compute_rectangles(\n",
    "        device_width=device_width,\n",
    "        margin_bottom=margin_bottom,\n",
    "        polarization_period=polarization_period,\n",
    "        one_shot_length=one_shot_length,\n",
    "        opening_width=opening_width,\n",
    "    )\n",
    "\n",
    "    return rectangles"
   ],
   "metadata": {
    "collapsed": false,
    "ExecuteTime": {
     "end_time": "2023-12-12T07:35:31.116580Z",
     "start_time": "2023-12-12T07:35:31.092432200Z"
    }
   },
   "id": "54b4938e338144ae"
  },
  {
   "cell_type": "markdown",
   "source": [
    "## 確認用のCSVファイルを生成する"
   ],
   "metadata": {
    "collapsed": false
   },
   "id": "dfd559fa4c58abc4"
  },
  {
   "cell_type": "code",
   "execution_count": 27,
   "outputs": [],
   "source": [
    "def compute_csv_row(rectangle):\n",
    "    return f\"{rectangle['top_left'][0]}, {rectangle['top_left'][1]}, {rectangle['bottom_right'][0]}, {rectangle['bottom_right'][1]}\"\n",
    "\n",
    "\n",
    "def generate_csv(rectangles):\n",
    "    filename = input(\"Enter csv filename: \")\n",
    "    rows = []\n",
    "    for rectangle in rectangles:\n",
    "        rows.append(compute_csv_row(rectangle=rectangle))\n",
    "    with open(f\"drawing_config/{filename}.csv\", \"w\") as f:\n",
    "        f.writelines(rows)\n",
    "\n",
    "\n",
    "def do_generate_csv():\n",
    "    polarization_period = 2.2\n",
    "    rectangles = do_compute_rectangles(polarization_period=polarization_period)\n",
    "    generate_csv(rectangles)\n",
    "\n",
    "\n",
    "do_generate_csv()"
   ],
   "metadata": {
    "collapsed": false,
    "ExecuteTime": {
     "end_time": "2023-12-12T07:33:54.848760500Z",
     "start_time": "2023-12-12T07:33:52.725192400Z"
    }
   },
   "id": "343be76c0e5d6277"
  },
  {
   "cell_type": "markdown",
   "source": [
    "## Celファイルを生成する\n",
    "\n",
    "台形にするために範囲を変えて繰り返す\n"
   ],
   "metadata": {
    "collapsed": false
   },
   "id": "971d1dfa97478f81"
  },
  {
   "cell_type": "code",
   "execution_count": 30,
   "outputs": [],
   "source": [
    "def convert_dot(micro_meter):\n",
    "    dot = 50000\n",
    "    area = 0.25  # 修論に書いてる数字の単位はmm^2\n",
    "    length = math.sqrt(area) * 1000\n",
    "    return int(micro_meter / (length / dot))\n",
    "\n",
    "\n",
    "def compute_cel_row(rectangle):\n",
    "    top_left_x = convert_dot(rectangle['top_left'][0])\n",
    "    top_left_y = convert_dot(rectangle['top_left'][1])\n",
    "    bottom_right_x = convert_dot(rectangle['bottom_right'][0])\n",
    "    bottom_right_y = convert_dot(rectangle['bottom_right'][1])\n",
    "    return f\"\\tTL{top_left_x}, {top_left_y}; TL{bottom_right_x}, {bottom_right_y}\\n\"\n",
    "\n",
    "\n",
    "def generate_cel(rectangles):\n",
    "    filename = input(\"Enter cel filename: \")\n",
    "    rows = []\n",
    "    for index, rectangle in enumerate(rectangles):\n",
    "        if index == 0:\n",
    "            rows.append(\"DS\" + compute_cel_row(rectangle=rectangle))\n",
    "        else:\n",
    "            rows.append(compute_cel_row(rectangle=rectangle))\n",
    "    with open(f\"drawing_config/{filename}.cel\", \"w\") as f:\n",
    "        f.write(\"/*--- PARAMETER INITIALIZE ---*/;\\nTS 1,1; TA 0;;\\n\")\n",
    "        f.writelines(rows)\n",
    "        f.write(\"END\\n\")\n",
    "\n",
    "\n",
    "def do_generate_cel():\n",
    "    rectangles = []\n",
    "    polarization_period = 2.2\n",
    "    rectangles.extend(do_compute_rectangles(polarization_period=polarization_period))\n",
    "    polarization_period = 2.0\n",
    "    rectangles.extend(do_compute_rectangles(polarization_period=polarization_period))\n",
    "    polarization_period = 1.8\n",
    "    rectangles.extend(do_compute_rectangles(polarization_period=polarization_period))\n",
    "    generate_cel(rectangles)\n",
    "\n",
    "\n",
    "do_generate_cel()"
   ],
   "metadata": {
    "collapsed": false,
    "ExecuteTime": {
     "end_time": "2023-12-12T07:35:58.336819100Z",
     "start_time": "2023-12-12T07:35:56.313945200Z"
    }
   },
   "id": "f0d61fc701530114"
  }
 ],
 "metadata": {
  "kernelspec": {
   "display_name": "Python 3",
   "language": "python",
   "name": "python3"
  },
  "language_info": {
   "codemirror_mode": {
    "name": "ipython",
    "version": 2
   },
   "file_extension": ".py",
   "mimetype": "text/x-python",
   "name": "python",
   "nbconvert_exporter": "python",
   "pygments_lexer": "ipython2",
   "version": "2.7.6"
  }
 },
 "nbformat": 4,
 "nbformat_minor": 5
}
